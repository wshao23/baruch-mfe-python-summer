{
 "cells": [
  {
   "cell_type": "markdown",
   "metadata": {},
   "source": [
    "# Homework 1 \n",
    "By Wanyan (Wendy) Shao"
   ]
  },
  {
   "cell_type": "markdown",
   "metadata": {},
   "source": [
    "## Set up your Python environtment\n",
    "Follow instructions in [README](https://github.com/jvictorchen/python-workshop) to install VirtualBox, Conda, Jupyter, and create a Github repository.\n",
    "Your homework will need to be submitted to this repository in order to be graded."
   ]
  },
  {
   "cell_type": "markdown",
   "metadata": {},
   "source": [
    "## Write a Jupyter Magic\n",
    "\n",
    "Write a Jupyter Magic that count the number of words in the cell. Try to make it both a line and cell magic. Demonstrate its usage with examples.\n",
    "\n",
    "You can refer to this documentation in creating a magic: https://ipython.readthedocs.io/en/stable/config/custommagics.html\n",
    "\n",
    "Line magic:\n",
    "```python\n",
    "%countwords this is a line magic\n",
    "\n",
    "# output: 5\n",
    "```\n",
    "\n",
    "\n",
    "Cell magic:\n",
    "```python\n",
    "%%countwords\n",
    "\n",
    "this is a magic\n",
    "cell\n",
    "\n",
    "\n",
    "# output: 5\n",
    "```\n",
    "\n"
   ]
  },
  {
   "cell_type": "code",
   "execution_count": 45,
   "metadata": {},
   "outputs": [],
   "source": [
    "#%countwords this is a line magic\n",
    "from IPython.core.magic import (register_line_magic, register_cell_magic,\n",
    "                                register_line_cell_magic)\n",
    "\n",
    "@ register_line_cell_magic\n",
    "def countwords(line, cell = None):\n",
    "    \"my line&cell magic\"\n",
    "    if cell is None:\n",
    "        words = line.split()\n",
    "    else:\n",
    "        words = (line + cell).split()\n",
    "    return len(words)\n"
   ]
  },
  {
   "cell_type": "code",
   "execution_count": 46,
   "metadata": {},
   "outputs": [
    {
     "data": {
      "text/plain": [
       "5"
      ]
     },
     "execution_count": 46,
     "metadata": {},
     "output_type": "execute_result"
    }
   ],
   "source": [
    "%countwords this is a line magic"
   ]
  },
  {
   "cell_type": "code",
   "execution_count": 47,
   "metadata": {},
   "outputs": [
    {
     "data": {
      "text/plain": [
       "7"
      ]
     },
     "execution_count": 47,
     "metadata": {},
     "output_type": "execute_result"
    }
   ],
   "source": [
    "%%countwords \n",
    "\n",
    "Hello, everyone\n",
    "Hope everything is fine\n",
    "bye!"
   ]
  },
  {
   "cell_type": "markdown",
   "metadata": {},
   "source": [
    "## Profile the speed of list comprehension vs. for loops\n",
    "Design some experiments to compare the speed of list comprehension and using a for loop. Practice using `%time`/`%%time` magics."
   ]
  },
  {
   "cell_type": "code",
   "execution_count": 68,
   "metadata": {},
   "outputs": [
    {
     "name": "stdout",
     "output_type": "stream",
     "text": [
      "Wall time: 15.6 ms\n"
     ]
    }
   ],
   "source": [
    "# using list comprehension\n",
    "sum = []\n",
    "%time sum = [x + 1 if x %2 == 1 else x for x in range(100000)]\n"
   ]
  },
  {
   "cell_type": "code",
   "execution_count": 74,
   "metadata": {},
   "outputs": [
    {
     "name": "stdout",
     "output_type": "stream",
     "text": [
      "Wall time: 31.2 ms\n"
     ]
    }
   ],
   "source": [
    "%%time\n",
    "sum2 = []\n",
    "for x in range(100000):\n",
    "    if(x%2 == 1):\n",
    "        sum2.append(x+1)\n",
    "    else:\n",
    "        sum2.append(x)\n"
   ]
  },
  {
   "cell_type": "markdown",
   "metadata": {},
   "source": [
    "## Prime numbers\n",
    "\n",
    "Write a function to return all prime numbers in a list. Can you do this with one line of list comprehension?"
   ]
  },
  {
   "cell_type": "code",
   "execution_count": 122,
   "metadata": {},
   "outputs": [],
   "source": [
    "prime_list = [2,3,11,120,1,12,13,15,23,24,25,26,100,121, -2]"
   ]
  },
  {
   "cell_type": "code",
   "execution_count": 121,
   "metadata": {},
   "outputs": [
    {
     "data": {
      "text/plain": [
       "[2, 3, 11, 13, 23]"
      ]
     },
     "execution_count": 121,
     "metadata": {},
     "output_type": "execute_result"
    }
   ],
   "source": [
    "def isprime(d): \n",
    "    divisors = [ k for k in range(2,d//2+1) if d % k == 0 ]\n",
    "    return (d>1 and all( d % od != 0 for od in divisors if od != d ))\n",
    "\n",
    "[d for d in prime_list if isprime(d)]"
   ]
  },
  {
   "cell_type": "code",
   "execution_count": 120,
   "metadata": {},
   "outputs": [
    {
     "data": {
      "text/plain": [
       "[2, 3, 11, 13, 23]"
      ]
     },
     "execution_count": 120,
     "metadata": {},
     "output_type": "execute_result"
    }
   ],
   "source": [
    "# oneline of list comprehension\n",
    "[d for d in prime_list if (d>1 and all( d % od != 0 for od in  [ k for k in range(2,d//2+1) if d % k == 0 ] if od != d ))]"
   ]
  },
  {
   "cell_type": "markdown",
   "metadata": {},
   "source": [
    "## Extend the Vector class\n",
    "* Extend the `Vector` class example to support any dimension. \n",
    "* Think of operations/methods that would be useful when using the `Vector` class. Do some research on dunder methods to see how you can implement them in a Pythonic way. \n",
    "* Do not worry about performance. \n",
    "* Some examples of usages are.\n",
    "\n",
    "```python\n",
    "# construction\n",
    ">> v = Vector(1, 2, 3, 4, 5)\n",
    "\n",
    "# get item\n",
    ">> v[2]\n",
    "3\n",
    "\n",
    "# slicing\n",
    ">> v[2:3]\n",
    "Vector(2)\n",
    "\n",
    "# length\n",
    ">> len(v)\n",
    "5\n",
    "\n",
    "# power\n",
    ">> v ** 2\n",
    "Vector(1, 4, 9, 16, 25)\n",
    "```"
   ]
  },
  {
   "cell_type": "code",
   "execution_count": 154,
   "metadata": {},
   "outputs": [],
   "source": [
    "from math import hypot \n",
    "\n",
    "class Vector:\n",
    "\n",
    "    def __init__(self, *args): \n",
    "        # initialize the Vector\n",
    "        self.container = []\n",
    "        for i in args:\n",
    "            self.container.append(i)\n",
    "        self.len = len(self.container)\n",
    "\n",
    "    def __repr__(self):\n",
    "        # represent the vector as Vector(i1, i2,...)\n",
    "        rep = \"Vector(\"\n",
    "        for i in self.container:\n",
    "            rep += str(i)+\", \"\n",
    "        rep = rep[0:-2] + \")\"\n",
    "        return rep\n",
    "    \n",
    "    def __len__(self):\n",
    "        #return the length of the Vector\n",
    "        return self.len\n",
    "\n",
    "    def __getitem__(self,item):\n",
    "        #get certain item of the Vector\n",
    "        if isinstance(item, slice):\n",
    "            return Vector(*self.container[item])\n",
    "        else:\n",
    "            return self.container[item]\n",
    "        \n",
    "        \n",
    "    def __add__(self, other):\n",
    "        # Vector Addition\n",
    "        if(self.len != other.len):\n",
    "            print(\"The two vectors must have same dimension!\")\n",
    "            return\n",
    "        ret = []\n",
    "        for i in range(self.len):\n",
    "            ret.append(self.container[i] + other.container[i])\n",
    "        return Vector(*ret)\n",
    "\n",
    "    def __mul__(self, scalar):\n",
    "        # scalar multiplication\n",
    "        ret = []\n",
    "        for i in self.container:\n",
    "            ret.append(i*scalar)\n",
    "        return Vector(*ret)\n",
    "    \n",
    "    def __sub__(self, other):\n",
    "        # Vector subtraction\n",
    "        ret = []\n",
    "        for i in range(self.len):\n",
    "            ret.append(self.container[i] - other.container[i])\n",
    "        return Vector(*ret)\n",
    "    \n",
    "    def __pow__(self, scalar):\n",
    "        # Vector power\n",
    "        ret = []\n",
    "        for i in self.container:\n",
    "            ret.append(i**scalar)\n",
    "        return Vector(*ret)"
   ]
  },
  {
   "cell_type": "code",
   "execution_count": 157,
   "metadata": {},
   "outputs": [
    {
     "name": "stdout",
     "output_type": "stream",
     "text": [
      "12\n",
      "Vector(12)\n",
      "5\n",
      "Vector(1, 529, 144, 121, 8281)\n",
      "Vector(2, 25, 15, 15, 96)\n",
      "Vector(0, 21, 9, 7, 86)\n",
      "Vector(2, 46, 24, 22, 182)\n"
     ]
    }
   ],
   "source": [
    "# construction\n",
    "v = Vector(1,23,12,11,91)\n",
    "\n",
    "# get item\n",
    "print(v[2])\n",
    "\n",
    "#slicing\n",
    "print(v[2:3])\n",
    "\n",
    "# length\n",
    "print(len(v))\n",
    "\n",
    "# power\n",
    "print(v**2)\n",
    "\n",
    "# add\n",
    "v2 = Vector(1,2,3,4,5)\n",
    "print(v+v2)\n",
    "\n",
    "# subtraction\n",
    "print(v-v2)\n",
    "\n",
    "# scalar multiplication\n",
    "print(v*2)"
   ]
  },
  {
   "cell_type": "markdown",
   "metadata": {},
   "source": [
    "## Case-insensitive dictionary\n",
    "* Write a `CaseInsensitiveDict` class that is insensitive to the case of keys.\n",
    "* It's a good idea to inherit from collections.UserDict.\n",
    "* Use examples to demonstrate how it should be used.\n",
    "\n",
    "\n",
    "```python\n",
    "d = CaseInsensitiveDict()\n",
    "d['A'] = 3\n",
    "\n",
    ">> print(d['a'])\n",
    "3\n",
    "\n",
    ">> d['A'] = 4\n",
    ">> print(d['a'])\n",
    "4\n",
    "```\n",
    "\n",
    "* Bonus point: what if you need to store the original keys?\n",
    "\n",
    "```python\n",
    ">> print(d)\n",
    "{'A': 3}\n",
    "```"
   ]
  },
  {
   "cell_type": "code",
   "execution_count": 186,
   "metadata": {},
   "outputs": [],
   "source": [
    "from collections import UserDict\n",
    "class CaseInsensitiveDict(UserDict):\n",
    "    def __init__(self,args = None):\n",
    "        # contruction\n",
    "        self.dict = UserDict(args)\n",
    "    \n",
    "    def __contains__(self,key):\n",
    "        # check whether the dictionary contains certain key\n",
    "        if str(key).upper() in self.dict:\n",
    "            return True\n",
    "        if str(key).lower() in self.dict:\n",
    "            return True\n",
    "        return False\n",
    "        \n",
    "    def __str__(self):\n",
    "        # print the dictionary as a string\n",
    "        return self.dict.__str__()\n",
    "    \n",
    "    def __getitem__(self, key):\n",
    "        # get the item in the class regardless of the case\n",
    "        if(str(key).upper() in self.dict):\n",
    "            return self.dict[str(key).upper()]\n",
    "        elif(str(key).lower() in  self.dict):\n",
    "            return self.dict[str(key).lower()]\n",
    "        else:\n",
    "            print(\"No such key!\")\n",
    "            return\n",
    "    \n",
    "    def __setitem__(self, key, value):\n",
    "        # set the item in the class regardless of the case\n",
    "        if(str(key).upper() in self.dict):\n",
    "            self.dict[str(key).upper()] = value\n",
    "        elif(str(key).lower() in  self.dict):\n",
    "            self.dict[str(key).lower()] = value\n",
    "        else:\n",
    "            self.dict[str(key)] = value\n",
    "\n",
    "        "
   ]
  },
  {
   "cell_type": "code",
   "execution_count": 187,
   "metadata": {},
   "outputs": [
    {
     "name": "stdout",
     "output_type": "stream",
     "text": [
      "1\n",
      "1\n",
      "2\n",
      "12\n",
      "100\n",
      "{'A': 1, 'b': 2, 'C': 100, 'D': -1}\n"
     ]
    }
   ],
   "source": [
    "# construction\n",
    "dict = {'A':1,'b':2,'C':3}\n",
    "d = CaseInsensitiveDict(dict)\n",
    "\n",
    "# get access to the dictionary regardless of case\n",
    "print(d['A'])\n",
    "print(d['a'])\n",
    "print(d['B'])\n",
    "\n",
    "# set the item in the dictionary\n",
    "d['C'] = 12\n",
    "print(d['c'])\n",
    "d['c'] = 100\n",
    "d['D'] = -1\n",
    "print(d['C'])\n",
    "\n",
    "# store the original key\n",
    "print(d)"
   ]
  }
 ],
 "metadata": {
  "kernelspec": {
   "display_name": "Python 3",
   "language": "python",
   "name": "python3"
  },
  "language_info": {
   "codemirror_mode": {
    "name": "ipython",
    "version": 3
   },
   "file_extension": ".py",
   "mimetype": "text/x-python",
   "name": "python",
   "nbconvert_exporter": "python",
   "pygments_lexer": "ipython3",
   "version": "3.7.4"
  },
  "toc": {
   "base_numbering": 1,
   "nav_menu": {},
   "number_sections": true,
   "sideBar": true,
   "skip_h1_title": false,
   "title_cell": "Table of Contents",
   "title_sidebar": "Contents",
   "toc_cell": false,
   "toc_position": {},
   "toc_section_display": true,
   "toc_window_display": false
  },
  "varInspector": {
   "cols": {
    "lenName": 16,
    "lenType": 16,
    "lenVar": 40
   },
   "kernels_config": {
    "python": {
     "delete_cmd_postfix": "",
     "delete_cmd_prefix": "del ",
     "library": "var_list.py",
     "varRefreshCmd": "print(var_dic_list())"
    },
    "r": {
     "delete_cmd_postfix": ") ",
     "delete_cmd_prefix": "rm(",
     "library": "var_list.r",
     "varRefreshCmd": "cat(var_dic_list()) "
    }
   },
   "types_to_exclude": [
    "module",
    "function",
    "builtin_function_or_method",
    "instance",
    "_Feature"
   ],
   "window_display": false
  }
 },
 "nbformat": 4,
 "nbformat_minor": 4
}
