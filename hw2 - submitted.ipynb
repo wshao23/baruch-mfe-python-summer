{
 "cells": [
  {
   "cell_type": "markdown",
   "metadata": {},
   "source": [
    "# Homework 2\n",
    "By Wanyan (Wendy) Shao"
   ]
  },
  {
   "cell_type": "markdown",
   "metadata": {},
   "source": [
    "## Reading\n",
    "* Descriptor: https://realpython.com/python-descriptors/#how-attributes-are-accessed-with-the-lookup-chain\n",
    "* Data model: https://docs.python.org/3/reference/datamodel.html (contents related to what we taught)\n",
    "* Python MRO: https://www.python.org/download/releases/2.3/mro/"
   ]
  },
  {
   "cell_type": "markdown",
   "metadata": {},
   "source": [
    "## Merge sorted stream\n",
    "Write a generator function that takes two sorted streams (generators), and return a generator that can produce a merged stream in sorted order.\n",
    "\n",
    "Bonus point: can you make it generic such that it can merge any number of streams?\n",
    "\n",
    "\n",
    "```python\n",
    "def merge_sorted_stream(stream1, stream2):\n",
    "    yield ...\n",
    "\n",
    "stream1 = range(0, 10, 2)\n",
    "stream2 = range(1, 10, 2)\n",
    "\n",
    "for x in merge_sorted_stream(stream1, stream2):\n",
    "    print(x)\n",
    "\n",
    "0 \n",
    "1\n",
    "2\n",
    "3\n",
    "4\n",
    "5\n",
    "6\n",
    "7\n",
    "8\n",
    "9\n",
    "```"
   ]
  },
  {
   "cell_type": "code",
   "execution_count": 27,
   "metadata": {},
   "outputs": [],
   "source": [
    "#compare the two streams by using two pointers\n",
    "def merge_sorted_stream(stream1, stream2):\n",
    "    n1 = len(stream1)\n",
    "    n2 = len(stream2)\n",
    "    # initialize two pointers\n",
    "    p1 = 0\n",
    "    p2 = 0\n",
    "    \n",
    "    # compare the two arrays by using two pointers\n",
    "    # return the smallest one and move the corresponding pointer one step further\n",
    "    while p1 < n1 and p2 < n2:\n",
    "        if stream1[p1] <= stream2[p2]:\n",
    "            yield stream1[p1]\n",
    "            p1 += 1\n",
    "        else:\n",
    "            yield stream2[p2]\n",
    "            p2 += 1\n",
    "    \n",
    "    # if there are still elements left\n",
    "    if p1 < n1:\n",
    "        for i in range(p1, n1, 1):\n",
    "            yield stream1[i]\n",
    "    if p2 < n2:\n",
    "        for i in range(p2, n2, 1):\n",
    "            yield stream2[i]"
   ]
  },
  {
   "cell_type": "code",
   "execution_count": 28,
   "metadata": {},
   "outputs": [
    {
     "name": "stdout",
     "output_type": "stream",
     "text": [
      "0\n",
      "1\n",
      "2\n",
      "3\n",
      "4\n",
      "5\n",
      "6\n",
      "7\n",
      "8\n",
      "9\n"
     ]
    }
   ],
   "source": [
    "stream1 = range(0, 10, 2)\n",
    "stream2 = range(1, 10, 2)\n",
    "\n",
    "for x in merge_sorted_stream(stream1, stream2):\n",
    "    print(x)"
   ]
  },
  {
   "cell_type": "code",
   "execution_count": 155,
   "metadata": {},
   "outputs": [],
   "source": [
    "from itertools import chain\n",
    "\n",
    "def merge_sorted_stream_general(*streams):# take (stream1, stream2, stream3,...) as argument\n",
    "    generator_total = sorted(chain(*streams))# combin all the input streams into a new stream and sort the new stream\n",
    "    for item in generator_total: # print items in the new stream\n",
    "        yield item\n",
    "    "
   ]
  },
  {
   "cell_type": "code",
   "execution_count": 156,
   "metadata": {},
   "outputs": [
    {
     "name": "stdout",
     "output_type": "stream",
     "text": [
      "0\n",
      "0.5\n",
      "1\n",
      "2\n",
      "2.5\n",
      "3\n",
      "3.5\n",
      "3.5\n",
      "4\n",
      "4.5\n",
      "5\n",
      "6\n",
      "7\n",
      "8\n",
      "9\n",
      "9.5\n"
     ]
    }
   ],
   "source": [
    "stream1 = range(0, 10, 2)\n",
    "stream2 = range(1, 10, 2)\n",
    "stream3 = (x for x in [0.5,2.5,3.5,3.5,4.5,9.5] )\n",
    "for x in merge_sorted_stream_general(stream1, stream2, stream3):\n",
    "    print(x)"
   ]
  },
  {
   "cell_type": "markdown",
   "metadata": {},
   "source": [
    "## Tree traversal\n",
    "\n",
    "Unlike linear data structures (Array, Linked List, Queues, Stacks, etc) which have only one logical way to traverse them, trees can be traversed in different ways. Following are the generally used ways for traversing trees.\n",
    "\n",
    "```\n",
    "      1\n",
    "    /  \\ \n",
    "   2    3\n",
    "  / \\\n",
    " 4   5\n",
    "```\n",
    "\n",
    "Depth First Traversals: \n",
    "  * (a) Inorder (Left, Root, Right) : 4 2 5 1 3\n",
    "  * (b) Preorder (Root, Left, Right) : 1 2 4 5 3\n",
    "  * (c) Postorder (Left, Right, Root) : 4 5 2 3 1\n",
    "\n",
    "Define a Tree class with a method that can walk through the tree in different orders. Hint: use generator will make your life a lot easier.\n",
    "\n",
    "```python\n",
    "class TreeNode:\n",
    "    \n",
    "    ...\n",
    "\n",
    "    def in_order(self):\n",
    "        pass\n",
    "        \n",
    "    def pre_order(self):\n",
    "        pass\n",
    "        \n",
    "    def post_order(self):\n",
    "        pass\n",
    "\n",
    "    \n",
    "root = TreeNode(1)\n",
    "root.left = TreeNode(2)\n",
    "root.right = TreeNode(3)\n",
    "root.left.left = TreeNode(4)\n",
    "root.left.right = TreeNode(5)\n",
    "\n",
    ">>> print(' -> '.join(item for item in root.in_order()))\n",
    "4 -> 2 -> 5 -> 1 -> 3    \n",
    "\n",
    "\n",
    "```\n",
    "   "
   ]
  },
  {
   "cell_type": "code",
   "execution_count": 47,
   "metadata": {},
   "outputs": [],
   "source": [
    "class TreeNode:\n",
    "    def __init__(self, x):\n",
    "        self.val = x\n",
    "        self.left = None\n",
    "        self.right = None\n",
    "        \n",
    "    def in_order(self):\n",
    "        # use recursion method to implement in_order tranversal\n",
    "        # first we tranverse left node, then root node, finally right node\n",
    "        if self:\n",
    "            # if the node is not NULL\n",
    "            if self.left:\n",
    "                for num in self.left.in_order():\n",
    "                    yield str(num)\n",
    "            yield str(self.val)\n",
    "            if self.right:\n",
    "                for num in self.right.in_order():\n",
    "                    yield str(num)\n",
    "\n",
    "            \n",
    "        \n",
    "    \n",
    "    def pre_order(self):\n",
    "         # use recursion method to implement in_order tranversal\n",
    "        # first we tranverse root node, then left node, finally right node\n",
    "        if self:\n",
    "            yield str(self.val)\n",
    "            if self.left:\n",
    "                for num in self.left.pre_order():\n",
    "                    yield str(num)\n",
    "            if self.right:\n",
    "                for num in self.right.pre_order():\n",
    "                    yield str(num)\n",
    "    \n",
    "    def post_order(self):\n",
    "         # use recursion method to implement in_order tranversal\n",
    "        # first we tranverse left node, then right node, finally root node\n",
    "        if self:\n",
    "            if self.left:\n",
    "                for num in self.left.post_order():\n",
    "                    yield str(num)\n",
    "            if self.right:\n",
    "                for num in self.right.post_order():\n",
    "                    yield str(num)\n",
    "            yield str(self.val)\n",
    "    \n",
    "    "
   ]
  },
  {
   "cell_type": "code",
   "execution_count": 50,
   "metadata": {},
   "outputs": [
    {
     "name": "stdout",
     "output_type": "stream",
     "text": [
      "In_order tranversal:\n",
      "4 -> 2 -> 5 -> 1 -> 3\n",
      "Pre_order tranversal:\n",
      "1 -> 2 -> 4 -> 5 -> 3\n",
      "Post_order tranversal:\n",
      "4 -> 5 -> 2 -> 3 -> 1\n"
     ]
    }
   ],
   "source": [
    "root = TreeNode(1)\n",
    "root.left = TreeNode(2)\n",
    "root.right = TreeNode(3)\n",
    "root.left.left = TreeNode(4)\n",
    "root.left.right = TreeNode(5)\n",
    "\n",
    "print(\"In_order tranversal:\")\n",
    "print(' -> '.join(item for item in root.in_order()))\n",
    "print(\"Pre_order tranversal:\")\n",
    "print(' -> '.join(item for item in root.pre_order()))\n",
    "print(\"Post_order tranversal:\")\n",
    "print(' -> '.join(item for item in root.post_order()))"
   ]
  },
  {
   "cell_type": "markdown",
   "metadata": {},
   "source": [
    "## Implement a timer\n",
    "Implement a timer that can print the execution time of your code. Try to implement it both as a decorator and as a context manager to compare the implementations. Can you implement it using one single class? \n",
    "\n",
    "Example:\n",
    "```python\n",
    "import time\n",
    "\n",
    "\n",
    "with timer() as timer:\n",
    "    time.sleep(3)\n",
    "\n",
    "# Total execution time: 3.000123 seconds (a made up number)\n",
    "\n",
    "\n",
    "@timer\n",
    "def sleep(secs):\n",
    "    time.sleep(secs)\n",
    "    \n",
    "sleep(3)\n",
    "# Total execution time: 3.000123 seconds (a made up number)\n",
    "```\n",
    "\n",
    "Below is the code snippet to measure the time:\n",
    "```python    \n",
    "import time\n",
    "start_time = time.time()\n",
    "main()\n",
    "print(f\"--- {time.time() - start_time} seconds ---\"\n",
    "```"
   ]
  },
  {
   "cell_type": "code",
   "execution_count": 144,
   "metadata": {},
   "outputs": [],
   "source": [
    "import time\n",
    "\n",
    "# The class contains two parts:\n",
    "# 1. using __enter__ and __exit to calclulate the duration time in the \"with\" block\n",
    "# 2. using __call__ dunder method to work as a decorator \n",
    "# Each part needs a separate system to calculate the duration time\n",
    "class timer:\n",
    "    def __enter__(self):\n",
    "        self.start_time = time.time()\n",
    "        return self\n",
    "\n",
    "    \n",
    "    def __call__(self, func):\n",
    "        def inner(secs):\n",
    "            self.start_time = time.time()\n",
    "            print(\"Execution...\")\n",
    "            func(secs)\n",
    "            self.end_time = time.time()\n",
    "            print(f\"--- {self.end_time - self.start_time} seconds ---\")\n",
    "        return inner\n",
    "    \n",
    "    def __exit__(self, exc_type, exc_value ,traceback):\n",
    "        self.end_time = time.time()\n",
    "        print(f\"--- {self.end_time - self.start_time} seconds ---\")\n",
    "        return True "
   ]
  },
  {
   "cell_type": "code",
   "execution_count": 146,
   "metadata": {},
   "outputs": [
    {
     "name": "stdout",
     "output_type": "stream",
     "text": [
      "--- 3.000107765197754 seconds ---\n"
     ]
    }
   ],
   "source": [
    "with timer() as timer:\n",
    "    time.sleep(3)"
   ]
  },
  {
   "cell_type": "code",
   "execution_count": 147,
   "metadata": {},
   "outputs": [
    {
     "name": "stdout",
     "output_type": "stream",
     "text": [
      "Execution...\n",
      "--- 3.001291275024414 seconds ---\n"
     ]
    }
   ],
   "source": [
    "@timer\n",
    "def sleep(secs):\n",
    "    time.sleep(secs)\n",
    "\n",
    "\n",
    "sleep(3)"
   ]
  }
 ],
 "metadata": {
  "kernelspec": {
   "display_name": "Python 3",
   "language": "python",
   "name": "python3"
  },
  "language_info": {
   "codemirror_mode": {
    "name": "ipython",
    "version": 3
   },
   "file_extension": ".py",
   "mimetype": "text/x-python",
   "name": "python",
   "nbconvert_exporter": "python",
   "pygments_lexer": "ipython3",
   "version": "3.7.4"
  },
  "toc": {
   "base_numbering": 1,
   "nav_menu": {},
   "number_sections": true,
   "sideBar": true,
   "skip_h1_title": false,
   "title_cell": "Table of Contents",
   "title_sidebar": "Contents",
   "toc_cell": false,
   "toc_position": {},
   "toc_section_display": true,
   "toc_window_display": false
  },
  "varInspector": {
   "cols": {
    "lenName": 16,
    "lenType": 16,
    "lenVar": 40
   },
   "kernels_config": {
    "python": {
     "delete_cmd_postfix": "",
     "delete_cmd_prefix": "del ",
     "library": "var_list.py",
     "varRefreshCmd": "print(var_dic_list())"
    },
    "r": {
     "delete_cmd_postfix": ") ",
     "delete_cmd_prefix": "rm(",
     "library": "var_list.r",
     "varRefreshCmd": "cat(var_dic_list()) "
    }
   },
   "types_to_exclude": [
    "module",
    "function",
    "builtin_function_or_method",
    "instance",
    "_Feature"
   ],
   "window_display": false
  }
 },
 "nbformat": 4,
 "nbformat_minor": 4
}
