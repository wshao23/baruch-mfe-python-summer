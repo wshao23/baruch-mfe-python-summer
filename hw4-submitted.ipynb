{
 "cells": [
  {
   "cell_type": "markdown",
   "metadata": {},
   "source": [
    "# Homework 4\n",
    "By Wanyan(Wendy) Shao"
   ]
  },
  {
   "cell_type": "code",
   "execution_count": 1,
   "metadata": {},
   "outputs": [
    {
     "data": {
      "text/html": [
       "<style>.container { width:100% !important; }</style>"
      ],
      "text/plain": [
       "<IPython.core.display.HTML object>"
      ]
     },
     "metadata": {},
     "output_type": "display_data"
    }
   ],
   "source": [
    "from IPython.core.display import display, HTML\n",
    "display(HTML(\"<style>.container { width:100% !important; }</style>\"))\n",
    "import pandas as pd\n",
    "import numpy as np"
   ]
  },
  {
   "cell_type": "markdown",
   "metadata": {},
   "source": [
    "# Question 1 Exploratory Data Analysis"
   ]
  },
  {
   "cell_type": "markdown",
   "metadata": {},
   "source": [
    "* From example/input/ load compustat.csv inside compustat.zip  without unzip compustat.zip\n",
    "* 1. Variable names that we are interested in:\n",
    "    * sic code: four digits integer for company\n",
    "    * datecqtr: year/ quarter time for the record\n",
    "    * cusip: compustats identifier for a company\n",
    "    * chod: shares out of standing (in million)\n",
    "    * saleq: sales of current quarter (in million)\n",
    "    * prccq: close price of current quarter (in dollar)\n",
    "    \n",
    "* 2. For saleq and market cap, compute the following:\n",
    "    * Time series mean \n",
    "    * Time Series standard deviation\n",
    "    * Time Series count of missing values\n",
    "    * Time Series ratio of missing values\n",
    "    * Aggregate the result in a dataframe\n",
    "        \n",
    "* 3. Answer the following questions:\n",
    "    * Before computing any value, what kinds of descriptive analysis would you do to check if there are outliers?\n",
    "    * Implement some schemes to detect outliers.\n",
    "    * Do you find some outliers? Could you think why? You can do some research using google.\n",
    "    * What kinds of conclusion you can get from analyzing the table you get in 2? You can make some plots to illustrate."
   ]
  },
  {
   "cell_type": "code",
   "execution_count": 2,
   "metadata": {},
   "outputs": [
    {
     "data": {
      "text/html": [
       "<div>\n",
       "<style scoped>\n",
       "    .dataframe tbody tr th:only-of-type {\n",
       "        vertical-align: middle;\n",
       "    }\n",
       "\n",
       "    .dataframe tbody tr th {\n",
       "        vertical-align: top;\n",
       "    }\n",
       "\n",
       "    .dataframe thead th {\n",
       "        text-align: right;\n",
       "    }\n",
       "</style>\n",
       "<table border=\"1\" class=\"dataframe\">\n",
       "  <thead>\n",
       "    <tr style=\"text-align: right;\">\n",
       "      <th></th>\n",
       "      <th>gvkey</th>\n",
       "      <th>datadate</th>\n",
       "      <th>fyearq</th>\n",
       "      <th>fqtr</th>\n",
       "      <th>indfmt</th>\n",
       "      <th>consol</th>\n",
       "      <th>popsrc</th>\n",
       "      <th>datafmt</th>\n",
       "      <th>cusip</th>\n",
       "      <th>curcdq</th>\n",
       "      <th>datacqtr</th>\n",
       "      <th>datafqtr</th>\n",
       "      <th>cshoq</th>\n",
       "      <th>saleq</th>\n",
       "      <th>costat</th>\n",
       "      <th>prccq</th>\n",
       "      <th>sic</th>\n",
       "    </tr>\n",
       "  </thead>\n",
       "  <tbody>\n",
       "    <tr>\n",
       "      <td>0</td>\n",
       "      <td>1000</td>\n",
       "      <td>19660331</td>\n",
       "      <td>1966</td>\n",
       "      <td>1</td>\n",
       "      <td>INDL</td>\n",
       "      <td>C</td>\n",
       "      <td>D</td>\n",
       "      <td>STD</td>\n",
       "      <td>000032102</td>\n",
       "      <td>USD</td>\n",
       "      <td>1966Q1</td>\n",
       "      <td>1966Q1</td>\n",
       "      <td>0.219</td>\n",
       "      <td>NaN</td>\n",
       "      <td>I</td>\n",
       "      <td>NaN</td>\n",
       "      <td>3089.0</td>\n",
       "    </tr>\n",
       "    <tr>\n",
       "      <td>1</td>\n",
       "      <td>1000</td>\n",
       "      <td>19660630</td>\n",
       "      <td>1966</td>\n",
       "      <td>2</td>\n",
       "      <td>INDL</td>\n",
       "      <td>C</td>\n",
       "      <td>D</td>\n",
       "      <td>STD</td>\n",
       "      <td>000032102</td>\n",
       "      <td>USD</td>\n",
       "      <td>1966Q2</td>\n",
       "      <td>1966Q2</td>\n",
       "      <td>0.219</td>\n",
       "      <td>NaN</td>\n",
       "      <td>I</td>\n",
       "      <td>NaN</td>\n",
       "      <td>3089.0</td>\n",
       "    </tr>\n",
       "    <tr>\n",
       "      <td>2</td>\n",
       "      <td>1000</td>\n",
       "      <td>19660930</td>\n",
       "      <td>1966</td>\n",
       "      <td>3</td>\n",
       "      <td>INDL</td>\n",
       "      <td>C</td>\n",
       "      <td>D</td>\n",
       "      <td>STD</td>\n",
       "      <td>000032102</td>\n",
       "      <td>USD</td>\n",
       "      <td>1966Q3</td>\n",
       "      <td>1966Q3</td>\n",
       "      <td>0.219</td>\n",
       "      <td>NaN</td>\n",
       "      <td>I</td>\n",
       "      <td>NaN</td>\n",
       "      <td>3089.0</td>\n",
       "    </tr>\n",
       "    <tr>\n",
       "      <td>3</td>\n",
       "      <td>1000</td>\n",
       "      <td>19661231</td>\n",
       "      <td>1966</td>\n",
       "      <td>4</td>\n",
       "      <td>INDL</td>\n",
       "      <td>C</td>\n",
       "      <td>D</td>\n",
       "      <td>STD</td>\n",
       "      <td>000032102</td>\n",
       "      <td>USD</td>\n",
       "      <td>1966Q4</td>\n",
       "      <td>1966Q4</td>\n",
       "      <td>0.219</td>\n",
       "      <td>4.032</td>\n",
       "      <td>I</td>\n",
       "      <td>NaN</td>\n",
       "      <td>3089.0</td>\n",
       "    </tr>\n",
       "    <tr>\n",
       "      <td>4</td>\n",
       "      <td>1000</td>\n",
       "      <td>19670331</td>\n",
       "      <td>1967</td>\n",
       "      <td>1</td>\n",
       "      <td>INDL</td>\n",
       "      <td>C</td>\n",
       "      <td>D</td>\n",
       "      <td>STD</td>\n",
       "      <td>000032102</td>\n",
       "      <td>USD</td>\n",
       "      <td>1967Q1</td>\n",
       "      <td>1967Q1</td>\n",
       "      <td>0.277</td>\n",
       "      <td>NaN</td>\n",
       "      <td>I</td>\n",
       "      <td>NaN</td>\n",
       "      <td>3089.0</td>\n",
       "    </tr>\n",
       "  </tbody>\n",
       "</table>\n",
       "</div>"
      ],
      "text/plain": [
       "   gvkey  datadate  fyearq  fqtr indfmt consol popsrc datafmt      cusip  \\\n",
       "0   1000  19660331    1966     1   INDL      C      D     STD  000032102   \n",
       "1   1000  19660630    1966     2   INDL      C      D     STD  000032102   \n",
       "2   1000  19660930    1966     3   INDL      C      D     STD  000032102   \n",
       "3   1000  19661231    1966     4   INDL      C      D     STD  000032102   \n",
       "4   1000  19670331    1967     1   INDL      C      D     STD  000032102   \n",
       "\n",
       "  curcdq datacqtr datafqtr  cshoq  saleq costat  prccq     sic  \n",
       "0    USD   1966Q1   1966Q1  0.219    NaN      I    NaN  3089.0  \n",
       "1    USD   1966Q2   1966Q2  0.219    NaN      I    NaN  3089.0  \n",
       "2    USD   1966Q3   1966Q3  0.219    NaN      I    NaN  3089.0  \n",
       "3    USD   1966Q4   1966Q4  0.219  4.032      I    NaN  3089.0  \n",
       "4    USD   1967Q1   1967Q1  0.277    NaN      I    NaN  3089.0  "
      ]
     },
     "execution_count": 2,
     "metadata": {},
     "output_type": "execute_result"
    }
   ],
   "source": [
    "# load compustat.csv from compustat.zip\n",
    "import zipfile\n",
    "with zipfile.ZipFile('./example/input/compustat.zip', 'r') as z:\n",
    "    f = z.open('compustat.csv')\n",
    "    data_raw = pd.read_csv(f)\n",
    "data_raw.head()\n"
   ]
  },
  {
   "cell_type": "code",
   "execution_count": 3,
   "metadata": {},
   "outputs": [
    {
     "data": {
      "text/html": [
       "<div>\n",
       "<style scoped>\n",
       "    .dataframe tbody tr th:only-of-type {\n",
       "        vertical-align: middle;\n",
       "    }\n",
       "\n",
       "    .dataframe tbody tr th {\n",
       "        vertical-align: top;\n",
       "    }\n",
       "\n",
       "    .dataframe thead th {\n",
       "        text-align: right;\n",
       "    }\n",
       "</style>\n",
       "<table border=\"1\" class=\"dataframe\">\n",
       "  <thead>\n",
       "    <tr style=\"text-align: right;\">\n",
       "      <th></th>\n",
       "      <th>sic</th>\n",
       "      <th>datacqtr</th>\n",
       "      <th>cusip</th>\n",
       "      <th>cshoq</th>\n",
       "      <th>saleq</th>\n",
       "      <th>prccq</th>\n",
       "    </tr>\n",
       "  </thead>\n",
       "  <tbody>\n",
       "    <tr>\n",
       "      <td>0</td>\n",
       "      <td>3089.0</td>\n",
       "      <td>1966Q1</td>\n",
       "      <td>000032102</td>\n",
       "      <td>0.219</td>\n",
       "      <td>NaN</td>\n",
       "      <td>NaN</td>\n",
       "    </tr>\n",
       "    <tr>\n",
       "      <td>1</td>\n",
       "      <td>3089.0</td>\n",
       "      <td>1966Q2</td>\n",
       "      <td>000032102</td>\n",
       "      <td>0.219</td>\n",
       "      <td>NaN</td>\n",
       "      <td>NaN</td>\n",
       "    </tr>\n",
       "    <tr>\n",
       "      <td>2</td>\n",
       "      <td>3089.0</td>\n",
       "      <td>1966Q3</td>\n",
       "      <td>000032102</td>\n",
       "      <td>0.219</td>\n",
       "      <td>NaN</td>\n",
       "      <td>NaN</td>\n",
       "    </tr>\n",
       "    <tr>\n",
       "      <td>3</td>\n",
       "      <td>3089.0</td>\n",
       "      <td>1966Q4</td>\n",
       "      <td>000032102</td>\n",
       "      <td>0.219</td>\n",
       "      <td>4.032</td>\n",
       "      <td>NaN</td>\n",
       "    </tr>\n",
       "    <tr>\n",
       "      <td>4</td>\n",
       "      <td>3089.0</td>\n",
       "      <td>1967Q1</td>\n",
       "      <td>000032102</td>\n",
       "      <td>0.277</td>\n",
       "      <td>NaN</td>\n",
       "      <td>NaN</td>\n",
       "    </tr>\n",
       "  </tbody>\n",
       "</table>\n",
       "</div>"
      ],
      "text/plain": [
       "      sic datacqtr      cusip  cshoq  saleq  prccq\n",
       "0  3089.0   1966Q1  000032102  0.219    NaN    NaN\n",
       "1  3089.0   1966Q2  000032102  0.219    NaN    NaN\n",
       "2  3089.0   1966Q3  000032102  0.219    NaN    NaN\n",
       "3  3089.0   1966Q4  000032102  0.219  4.032    NaN\n",
       "4  3089.0   1967Q1  000032102  0.277    NaN    NaN"
      ]
     },
     "execution_count": 3,
     "metadata": {},
     "output_type": "execute_result"
    }
   ],
   "source": [
    "# select columns that we are interested in\n",
    "data = data_raw.loc[:,[\"sic\", \"datacqtr\", \"cusip\", \"cshoq\", \"saleq\", \"prccq\"]]\n",
    "data.head()"
   ]
  },
  {
   "cell_type": "code",
   "execution_count": 4,
   "metadata": {},
   "outputs": [
    {
     "name": "stdout",
     "output_type": "stream",
     "text": [
      "<class 'pandas.core.frame.DataFrame'>\n",
      "RangeIndex: 1811299 entries, 0 to 1811298\n",
      "Data columns (total 6 columns):\n",
      "sic         float64\n",
      "datacqtr    object\n",
      "cusip       object\n",
      "cshoq       float64\n",
      "saleq       float64\n",
      "prccq       float64\n",
      "dtypes: float64(4), object(2)\n",
      "memory usage: 82.9+ MB\n"
     ]
    }
   ],
   "source": [
    "data.info()"
   ]
  },
  {
   "cell_type": "code",
   "execution_count": 5,
   "metadata": {},
   "outputs": [
    {
     "data": {
      "text/html": [
       "<div>\n",
       "<style scoped>\n",
       "    .dataframe tbody tr th:only-of-type {\n",
       "        vertical-align: middle;\n",
       "    }\n",
       "\n",
       "    .dataframe tbody tr th {\n",
       "        vertical-align: top;\n",
       "    }\n",
       "\n",
       "    .dataframe thead th {\n",
       "        text-align: right;\n",
       "    }\n",
       "</style>\n",
       "<table border=\"1\" class=\"dataframe\">\n",
       "  <thead>\n",
       "    <tr style=\"text-align: right;\">\n",
       "      <th></th>\n",
       "      <th>sic</th>\n",
       "      <th>datacqtr</th>\n",
       "      <th>cusip</th>\n",
       "      <th>cshoq</th>\n",
       "      <th>saleq</th>\n",
       "      <th>prccq</th>\n",
       "      <th>market_cap</th>\n",
       "    </tr>\n",
       "  </thead>\n",
       "  <tbody>\n",
       "    <tr>\n",
       "      <td>0</td>\n",
       "      <td>3089.0</td>\n",
       "      <td>1966Q1</td>\n",
       "      <td>000032102</td>\n",
       "      <td>0.219</td>\n",
       "      <td>NaN</td>\n",
       "      <td>NaN</td>\n",
       "      <td>NaN</td>\n",
       "    </tr>\n",
       "    <tr>\n",
       "      <td>1</td>\n",
       "      <td>3089.0</td>\n",
       "      <td>1966Q2</td>\n",
       "      <td>000032102</td>\n",
       "      <td>0.219</td>\n",
       "      <td>NaN</td>\n",
       "      <td>NaN</td>\n",
       "      <td>NaN</td>\n",
       "    </tr>\n",
       "    <tr>\n",
       "      <td>2</td>\n",
       "      <td>3089.0</td>\n",
       "      <td>1966Q3</td>\n",
       "      <td>000032102</td>\n",
       "      <td>0.219</td>\n",
       "      <td>NaN</td>\n",
       "      <td>NaN</td>\n",
       "      <td>NaN</td>\n",
       "    </tr>\n",
       "    <tr>\n",
       "      <td>3</td>\n",
       "      <td>3089.0</td>\n",
       "      <td>1966Q4</td>\n",
       "      <td>000032102</td>\n",
       "      <td>0.219</td>\n",
       "      <td>4.032</td>\n",
       "      <td>NaN</td>\n",
       "      <td>NaN</td>\n",
       "    </tr>\n",
       "    <tr>\n",
       "      <td>4</td>\n",
       "      <td>3089.0</td>\n",
       "      <td>1967Q1</td>\n",
       "      <td>000032102</td>\n",
       "      <td>0.277</td>\n",
       "      <td>NaN</td>\n",
       "      <td>NaN</td>\n",
       "      <td>NaN</td>\n",
       "    </tr>\n",
       "    <tr>\n",
       "      <td>5</td>\n",
       "      <td>3089.0</td>\n",
       "      <td>1967Q2</td>\n",
       "      <td>000032102</td>\n",
       "      <td>0.277</td>\n",
       "      <td>NaN</td>\n",
       "      <td>NaN</td>\n",
       "      <td>NaN</td>\n",
       "    </tr>\n",
       "    <tr>\n",
       "      <td>6</td>\n",
       "      <td>3089.0</td>\n",
       "      <td>1967Q3</td>\n",
       "      <td>000032102</td>\n",
       "      <td>0.277</td>\n",
       "      <td>NaN</td>\n",
       "      <td>NaN</td>\n",
       "      <td>NaN</td>\n",
       "    </tr>\n",
       "    <tr>\n",
       "      <td>7</td>\n",
       "      <td>3089.0</td>\n",
       "      <td>1967Q4</td>\n",
       "      <td>000032102</td>\n",
       "      <td>0.277</td>\n",
       "      <td>5.363</td>\n",
       "      <td>NaN</td>\n",
       "      <td>NaN</td>\n",
       "    </tr>\n",
       "    <tr>\n",
       "      <td>8</td>\n",
       "      <td>3089.0</td>\n",
       "      <td>1968Q1</td>\n",
       "      <td>000032102</td>\n",
       "      <td>0.645</td>\n",
       "      <td>NaN</td>\n",
       "      <td>NaN</td>\n",
       "      <td>NaN</td>\n",
       "    </tr>\n",
       "    <tr>\n",
       "      <td>9</td>\n",
       "      <td>3089.0</td>\n",
       "      <td>1968Q2</td>\n",
       "      <td>000032102</td>\n",
       "      <td>0.645</td>\n",
       "      <td>NaN</td>\n",
       "      <td>NaN</td>\n",
       "      <td>NaN</td>\n",
       "    </tr>\n",
       "    <tr>\n",
       "      <td>10</td>\n",
       "      <td>3089.0</td>\n",
       "      <td>1968Q3</td>\n",
       "      <td>000032102</td>\n",
       "      <td>0.664</td>\n",
       "      <td>NaN</td>\n",
       "      <td>NaN</td>\n",
       "      <td>NaN</td>\n",
       "    </tr>\n",
       "    <tr>\n",
       "      <td>11</td>\n",
       "      <td>3089.0</td>\n",
       "      <td>1968Q4</td>\n",
       "      <td>000032102</td>\n",
       "      <td>0.664</td>\n",
       "      <td>29.840</td>\n",
       "      <td>NaN</td>\n",
       "      <td>NaN</td>\n",
       "    </tr>\n",
       "    <tr>\n",
       "      <td>12</td>\n",
       "      <td>3089.0</td>\n",
       "      <td>1969Q1</td>\n",
       "      <td>000032102</td>\n",
       "      <td>0.743</td>\n",
       "      <td>7.095</td>\n",
       "      <td>NaN</td>\n",
       "      <td>NaN</td>\n",
       "    </tr>\n",
       "    <tr>\n",
       "      <td>13</td>\n",
       "      <td>3089.0</td>\n",
       "      <td>1969Q2</td>\n",
       "      <td>000032102</td>\n",
       "      <td>2.230</td>\n",
       "      <td>10.683</td>\n",
       "      <td>NaN</td>\n",
       "      <td>NaN</td>\n",
       "    </tr>\n",
       "    <tr>\n",
       "      <td>14</td>\n",
       "      <td>3089.0</td>\n",
       "      <td>1969Q3</td>\n",
       "      <td>000032102</td>\n",
       "      <td>2.230</td>\n",
       "      <td>9.818</td>\n",
       "      <td>NaN</td>\n",
       "      <td>NaN</td>\n",
       "    </tr>\n",
       "    <tr>\n",
       "      <td>15</td>\n",
       "      <td>3089.0</td>\n",
       "      <td>1969Q4</td>\n",
       "      <td>000032102</td>\n",
       "      <td>2.230</td>\n",
       "      <td>6.702</td>\n",
       "      <td>NaN</td>\n",
       "      <td>NaN</td>\n",
       "    </tr>\n",
       "    <tr>\n",
       "      <td>16</td>\n",
       "      <td>3089.0</td>\n",
       "      <td>1970Q1</td>\n",
       "      <td>000032102</td>\n",
       "      <td>2.230</td>\n",
       "      <td>9.478</td>\n",
       "      <td>NaN</td>\n",
       "      <td>NaN</td>\n",
       "    </tr>\n",
       "    <tr>\n",
       "      <td>17</td>\n",
       "      <td>3089.0</td>\n",
       "      <td>1970Q2</td>\n",
       "      <td>000032102</td>\n",
       "      <td>2.230</td>\n",
       "      <td>9.916</td>\n",
       "      <td>NaN</td>\n",
       "      <td>NaN</td>\n",
       "    </tr>\n",
       "    <tr>\n",
       "      <td>18</td>\n",
       "      <td>3089.0</td>\n",
       "      <td>1970Q3</td>\n",
       "      <td>000032102</td>\n",
       "      <td>2.230</td>\n",
       "      <td>10.698</td>\n",
       "      <td>11.75</td>\n",
       "      <td>26.2025</td>\n",
       "    </tr>\n",
       "    <tr>\n",
       "      <td>19</td>\n",
       "      <td>3089.0</td>\n",
       "      <td>1970Q4</td>\n",
       "      <td>000032102</td>\n",
       "      <td>2.446</td>\n",
       "      <td>10.919</td>\n",
       "      <td>10.00</td>\n",
       "      <td>24.4600</td>\n",
       "    </tr>\n",
       "  </tbody>\n",
       "</table>\n",
       "</div>"
      ],
      "text/plain": [
       "       sic datacqtr      cusip  cshoq   saleq  prccq  market_cap\n",
       "0   3089.0   1966Q1  000032102  0.219     NaN    NaN         NaN\n",
       "1   3089.0   1966Q2  000032102  0.219     NaN    NaN         NaN\n",
       "2   3089.0   1966Q3  000032102  0.219     NaN    NaN         NaN\n",
       "3   3089.0   1966Q4  000032102  0.219   4.032    NaN         NaN\n",
       "4   3089.0   1967Q1  000032102  0.277     NaN    NaN         NaN\n",
       "5   3089.0   1967Q2  000032102  0.277     NaN    NaN         NaN\n",
       "6   3089.0   1967Q3  000032102  0.277     NaN    NaN         NaN\n",
       "7   3089.0   1967Q4  000032102  0.277   5.363    NaN         NaN\n",
       "8   3089.0   1968Q1  000032102  0.645     NaN    NaN         NaN\n",
       "9   3089.0   1968Q2  000032102  0.645     NaN    NaN         NaN\n",
       "10  3089.0   1968Q3  000032102  0.664     NaN    NaN         NaN\n",
       "11  3089.0   1968Q4  000032102  0.664  29.840    NaN         NaN\n",
       "12  3089.0   1969Q1  000032102  0.743   7.095    NaN         NaN\n",
       "13  3089.0   1969Q2  000032102  2.230  10.683    NaN         NaN\n",
       "14  3089.0   1969Q3  000032102  2.230   9.818    NaN         NaN\n",
       "15  3089.0   1969Q4  000032102  2.230   6.702    NaN         NaN\n",
       "16  3089.0   1970Q1  000032102  2.230   9.478    NaN         NaN\n",
       "17  3089.0   1970Q2  000032102  2.230   9.916    NaN         NaN\n",
       "18  3089.0   1970Q3  000032102  2.230  10.698  11.75     26.2025\n",
       "19  3089.0   1970Q4  000032102  2.446  10.919  10.00     24.4600"
      ]
     },
     "execution_count": 5,
     "metadata": {},
     "output_type": "execute_result"
    }
   ],
   "source": [
    "# Aggregate \"market_cap\"\n",
    "data[\"market_cap\"] = data[\"cshoq\"] * data[\"prccq\"]\n",
    "data.head(20)"
   ]
  },
  {
   "cell_type": "code",
   "execution_count": 6,
   "metadata": {},
   "outputs": [
    {
     "name": "stdout",
     "output_type": "stream",
     "text": [
      "count    1.343023e+06\n",
      "mean     2.057473e+03\n",
      "std      1.320220e+04\n",
      "min      0.000000e+00\n",
      "25%      2.000701e+01\n",
      "50%      9.421800e+01\n",
      "75%      5.257138e+02\n",
      "max      1.540774e+06\n",
      "Name: market_cap, dtype: float64\n"
     ]
    },
    {
     "data": {
      "text/plain": [
       "<matplotlib.axes._subplots.AxesSubplot at 0x19f2a1d8f48>"
      ]
     },
     "execution_count": 6,
     "metadata": {},
     "output_type": "execute_result"
    }
   ],
   "source": [
    "# check outliers by using plot\n",
    "print(data[\"market_cap\"].describe())\n",
    "data[\"market_cap\"].hist()"
   ]
  },
  {
   "cell_type": "code",
   "execution_count": 7,
   "metadata": {},
   "outputs": [
    {
     "name": "stdout",
     "output_type": "stream",
     "text": [
      "count    1.541801e+06\n",
      "mean     4.451507e+02\n",
      "std      2.679707e+03\n",
      "min     -2.562300e+04\n",
      "25%      3.210000e+00\n",
      "50%      2.182500e+01\n",
      "75%      1.305300e+02\n",
      "max      2.073073e+05\n",
      "Name: saleq, dtype: float64\n"
     ]
    },
    {
     "data": {
      "text/plain": [
       "<matplotlib.axes._subplots.AxesSubplot at 0x19f2a1d8c88>"
      ]
     },
     "execution_count": 7,
     "metadata": {},
     "output_type": "execute_result"
    },
    {
     "data": {
      "image/png": "[encoded data removed]",
      "text/plain": [
       "<Figure size 432x288 with 1 Axes>"
      ]
     },
     "metadata": {
      "needs_background": "light"
     },
     "output_type": "display_data"
    }
   ],
   "source": [
    "print(data[\"saleq\"].describe())\n",
    "data[\"saleq\"].hist()"
   ]
  },
  {
   "cell_type": "code",
   "execution_count": 33,
   "metadata": {},
   "outputs": [
    {
     "data": {
      "image/png": "[encoded data removed]",
      "text/plain": [
       "<Figure size 432x288 with 1 Axes>"
      ]
     },
     "metadata": {
      "needs_background": "light"
     },
     "output_type": "display_data"
    }
   ],
   "source": [
    "# use boxplot to check outliers\n",
    "import matplotlib.pyplot as plt\n",
    "\n",
    "# boxplot for saleq\n",
    "plt.boxplot(x = data[\"saleq\"].dropna(),\n",
    "           whis = 1.5,\n",
    "           widths = 0.7,\n",
    "           patch_artist = True,\n",
    "           showmeans = True,\n",
    "           boxprops = {'facecolor': 'steelblue'},\n",
    "           flierprops = {'markerfacecolor': 'red', 'markeredgecolor': 'red', 'markersize': 4},\n",
    "           medianprops = {'linestyle': '-', 'color': 'orange'},\n",
    "           labels = [''])\n",
    "plt.show()"
   ]
  },
  {
   "cell_type": "code",
   "execution_count": 32,
   "metadata": {},
   "outputs": [
    {
     "data": {
      "text/plain": [
       "271         534.195\n",
       "272         572.846\n",
       "273         550.500\n",
       "274         512.800\n",
       "275         520.200\n",
       "             ...   \n",
       "1811188     559.800\n",
       "1811189     566.700\n",
       "1811190     520.900\n",
       "1811233    1704.000\n",
       "1811235     749.000\n",
       "Name: saleq, Length: 174006, dtype: float64"
      ]
     },
     "execution_count": 32,
     "metadata": {},
     "output_type": "execute_result"
    }
   ],
   "source": [
    "# find the outliers\n",
    "Q1 = data[\"saleq\"].quantile(q = 0.25)\n",
    "Q3 = data[\"saleq\"].quantile(q = 0.75)\n",
    "\n",
    "# upper bound and lower bound based on 1.5 times of quantile difference\n",
    "lower_bound = Q1 - 1.5*(Q3 - Q1)\n",
    "upper_bound = Q3 + 1.5*(Q3 - Q1)\n",
    "\n",
    "# find the outliers\n",
    "data[\"saleq\"][(data[\"saleq\"] > upper_bound) | (data[\"saleq\"] < lower_bound)]"
   ]
  },
  {
   "cell_type": "code",
   "execution_count": 144,
   "metadata": {},
   "outputs": [
    {
     "data": {
      "image/png": "[encoded data removed]",
      "text/plain": [
       "<Figure size 432x288 with 1 Axes>"
      ]
     },
     "metadata": {
      "needs_background": "light"
     },
     "output_type": "display_data"
    }
   ],
   "source": [
    "# boxplot for market_cap\n",
    "plt.boxplot(x = data[\"market_cap\"].dropna(),\n",
    "           whis = 1.5,\n",
    "           widths = 0.7,\n",
    "           patch_artist = True,\n",
    "           showmeans = True,\n",
    "           boxprops = {'facecolor': 'steelblue'},\n",
    "           flierprops = {'markerfacecolor': 'red', 'markeredgecolor': 'red', 'markersize': 4},\n",
    "           medianprops = {'linestyle': '-', 'color': 'orange'},\n",
    "           labels = [''])\n",
    "plt.show()"
   ]
  },
  {
   "cell_type": "code",
   "execution_count": 34,
   "metadata": {},
   "outputs": [
    {
     "data": {
      "text/plain": [
       "294        1444.03182\n",
       "295        1474.92862\n",
       "296        1551.45804\n",
       "297        1635.36347\n",
       "298        1533.30055\n",
       "              ...    \n",
       "1811242    1478.62000\n",
       "1811243    1821.29200\n",
       "1811244    1652.34300\n",
       "1811245    2151.76500\n",
       "1811246    1915.46800\n",
       "Name: market_cap, Length: 206869, dtype: float64"
      ]
     },
     "execution_count": 34,
     "metadata": {},
     "output_type": "execute_result"
    }
   ],
   "source": [
    "# find the outliers\n",
    "Q1 = data[\"market_cap\"].quantile(q = 0.25)\n",
    "Q3 = data[\"market_cap\"].quantile(q = 0.75)\n",
    "\n",
    "# upper bound and lower bound based on 1.5 times of quantile difference\n",
    "lower_bound = Q1 - 1.5*(Q3 - Q1)\n",
    "upper_bound = Q3 + 1.5*(Q3 - Q1)\n",
    "\n",
    "# find the outliers\n",
    "data[\"market_cap\"][(data[\"market_cap\"] > upper_bound) | (data[\"market_cap\"] < lower_bound)]"
   ]
  },
  {
   "cell_type": "code",
   "execution_count": 27,
   "metadata": {},
   "outputs": [
    {
     "name": "stdout",
     "output_type": "stream",
     "text": [
      "                   saleq     market_cap\n",
      "Mean          445.150664    2057.473104\n",
      "Std          2679.706576   13202.197457\n",
      "N_NaN      269498.000000  468276.000000\n",
      "NaN_Ratio       0.148787       0.258530\n"
     ]
    }
   ],
   "source": [
    "saleq_mean = data[\"saleq\"].mean()\n",
    "mktcap_mean = data[\"market_cap\"].mean()\n",
    "saleq_std = data[\"saleq\"].std()\n",
    "mktcap_std = data[\"market_cap\"].std()\n",
    "saleq_nan = data[\"saleq\"].isnull().sum()\n",
    "mktcap_nan = data[\"market_cap\"].isnull().sum()\n",
    "saleq_nan_ratio = saleq_nan/(data[\"saleq\"].count()+saleq_nan)\n",
    "mktcap_nan_ratio = mktcap_nan/(data[\"market_cap\"].count()+ mktcap_nan)\n",
    "\n",
    "s = pd.Series([saleq_mean,saleq_std,saleq_nan,saleq_nan_ratio], index = [\"Mean\",\"Std\",\"N_NaN\",\"NaN_Ratio\"])\n",
    "m = pd.Series([mktcap_mean,mktcap_std,mktcap_nan,mktcap_nan_ratio], index = [\"Mean\",\"Std\",\"N_NaN\",\"NaN_Ratio\"])\n",
    "\n",
    "data_stats = pd.concat([s,m],axis = 1)\n",
    "data_stats.columns = ['saleq','market_cap'] \n",
    "print(data_stats)"
   ]
  },
  {
   "cell_type": "markdown",
   "metadata": {},
   "source": [
    "From the histogram about for each variable, we found that both of them have outliers as the max values are far bigger than the mean.\n",
    "From boxplots about each variable, we found that there are too many extremly large outliers, which make the box invisible in both figures. This results illustrate the sale quantity and market capital can't be analyzed in the time series for all the company as the companies have great differences from different industry, even in the same industry, small company and large company have wide gaps in their ability, which means a centralized distribution can't capture their performance, e.g. saleq and market_cap."
   ]
  },
  {
   "cell_type": "markdown",
   "metadata": {},
   "source": [
    "# Question 2 Compute Industry Concentration"
   ]
  },
  {
   "cell_type": "markdown",
   "metadata": {},
   "source": [
    "The defination of HHI index could be found: \n",
    "\n",
    "https://www.investopedia.com/terms/h/hhi.asp#:~:text=The%20Herfindahl%2DHirschman%20Index%20(HHI)%20is%20a%20commonly%20accepted,close%20to%20zero%20to%2010%2C000.\n",
    "\n",
    "This index is used to measure the industry concentration and was used by congressman to determine whether to approve a merge deal or not.\n",
    "\n",
    "Using the same data in question 1. Compute a panel data for HHI index for all industry, using a 2 digit SIC code.\n",
    "\n",
    "Choose top 4 industry with the highest average HHI index, plot their time series pattern of HHI in a 2 by 2 figure."
   ]
  },
  {
   "cell_type": "code",
   "execution_count": 52,
   "metadata": {},
   "outputs": [
    {
     "data": {
      "text/plain": [
       "array(['30', '58', '57', '50', '37', '27', '36', '35', '34', '48', '33',\n",
       "       '65', '38', '73', '32', '45', '67', '79', '39', '28', '78', '23',\n",
       "       '87', '49', '26', '56', '13', '51', '63', '59', '22', '60', '62',\n",
       "       '99', '10', '47', '12', '54', '64', '44', '20', '70', '80', '53',\n",
       "       '42', '75', '17', '14', '15', '61', '25', '31', '24', '29', '72',\n",
       "       '16', '40', '21', '82', '55', '52', '83', '41', '90', '84', '76',\n",
       "       '46', '89', '81', '86'], dtype=object)"
      ]
     },
     "execution_count": 52,
     "metadata": {},
     "output_type": "execute_result"
    }
   ],
   "source": [
    "#  using a 2 digit SIC code\n",
    "data2 = data.dropna().reset_index(drop = True)\n",
    "data2[\"sic\"] =  data2[\"sic\"].astype(str)\n",
    "data2[\"sic\"] = data2[\"sic\"].str[:2]\n",
    "data2[\"sic\"].unique()"
   ]
  },
  {
   "cell_type": "code",
   "execution_count": 88,
   "metadata": {},
   "outputs": [
    {
     "data": {
      "text/html": [
       "<div>\n",
       "<style scoped>\n",
       "    .dataframe tbody tr th:only-of-type {\n",
       "        vertical-align: middle;\n",
       "    }\n",
       "\n",
       "    .dataframe tbody tr th {\n",
       "        vertical-align: top;\n",
       "    }\n",
       "\n",
       "    .dataframe thead th {\n",
       "        text-align: right;\n",
       "    }\n",
       "</style>\n",
       "<table border=\"1\" class=\"dataframe\">\n",
       "  <thead>\n",
       "    <tr style=\"text-align: right;\">\n",
       "      <th></th>\n",
       "      <th>sic</th>\n",
       "      <th>datacqtr</th>\n",
       "      <th>cusip</th>\n",
       "      <th>cshoq</th>\n",
       "      <th>saleq</th>\n",
       "      <th>prccq</th>\n",
       "      <th>market_cap</th>\n",
       "      <th>total_industry_shr</th>\n",
       "      <th>market_shr</th>\n",
       "      <th>market_shr_sqr</th>\n",
       "      <th>HHI</th>\n",
       "      <th>HHI_average</th>\n",
       "    </tr>\n",
       "  </thead>\n",
       "  <tbody>\n",
       "    <tr>\n",
       "      <td>0</td>\n",
       "      <td>30</td>\n",
       "      <td>1970Q3</td>\n",
       "      <td>000032102</td>\n",
       "      <td>2.230</td>\n",
       "      <td>10.698</td>\n",
       "      <td>11.750</td>\n",
       "      <td>26.202500</td>\n",
       "      <td>5948.329125</td>\n",
       "      <td>0.440502</td>\n",
       "      <td>0.194042</td>\n",
       "      <td>1849.571608</td>\n",
       "      <td>1404.552682</td>\n",
       "    </tr>\n",
       "    <tr>\n",
       "      <td>1</td>\n",
       "      <td>30</td>\n",
       "      <td>1970Q4</td>\n",
       "      <td>000032102</td>\n",
       "      <td>2.446</td>\n",
       "      <td>10.919</td>\n",
       "      <td>10.000</td>\n",
       "      <td>24.460000</td>\n",
       "      <td>8067.256308</td>\n",
       "      <td>0.303201</td>\n",
       "      <td>0.091931</td>\n",
       "      <td>1424.771672</td>\n",
       "      <td>1404.552682</td>\n",
       "    </tr>\n",
       "    <tr>\n",
       "      <td>2</td>\n",
       "      <td>30</td>\n",
       "      <td>1971Q1</td>\n",
       "      <td>000032102</td>\n",
       "      <td>3.507</td>\n",
       "      <td>7.983</td>\n",
       "      <td>9.750</td>\n",
       "      <td>34.193250</td>\n",
       "      <td>8344.458335</td>\n",
       "      <td>0.409772</td>\n",
       "      <td>0.167913</td>\n",
       "      <td>1386.952707</td>\n",
       "      <td>1404.552682</td>\n",
       "    </tr>\n",
       "    <tr>\n",
       "      <td>3</td>\n",
       "      <td>30</td>\n",
       "      <td>1971Q2</td>\n",
       "      <td>000032102</td>\n",
       "      <td>3.518</td>\n",
       "      <td>9.885</td>\n",
       "      <td>8.250</td>\n",
       "      <td>29.023500</td>\n",
       "      <td>9039.093803</td>\n",
       "      <td>0.321089</td>\n",
       "      <td>0.103098</td>\n",
       "      <td>1296.213826</td>\n",
       "      <td>1404.552682</td>\n",
       "    </tr>\n",
       "    <tr>\n",
       "      <td>4</td>\n",
       "      <td>30</td>\n",
       "      <td>1971Q3</td>\n",
       "      <td>000032102</td>\n",
       "      <td>3.515</td>\n",
       "      <td>7.975</td>\n",
       "      <td>4.625</td>\n",
       "      <td>16.256875</td>\n",
       "      <td>8831.406151</td>\n",
       "      <td>0.184080</td>\n",
       "      <td>0.033886</td>\n",
       "      <td>1386.786799</td>\n",
       "      <td>1404.552682</td>\n",
       "    </tr>\n",
       "  </tbody>\n",
       "</table>\n",
       "</div>"
      ],
      "text/plain": [
       "  sic datacqtr      cusip  cshoq   saleq   prccq  market_cap  \\\n",
       "0  30   1970Q3  000032102  2.230  10.698  11.750   26.202500   \n",
       "1  30   1970Q4  000032102  2.446  10.919  10.000   24.460000   \n",
       "2  30   1971Q1  000032102  3.507   7.983   9.750   34.193250   \n",
       "3  30   1971Q2  000032102  3.518   9.885   8.250   29.023500   \n",
       "4  30   1971Q3  000032102  3.515   7.975   4.625   16.256875   \n",
       "\n",
       "   total_industry_shr  market_shr  market_shr_sqr          HHI  HHI_average  \n",
       "0         5948.329125    0.440502        0.194042  1849.571608  1404.552682  \n",
       "1         8067.256308    0.303201        0.091931  1424.771672  1404.552682  \n",
       "2         8344.458335    0.409772        0.167913  1386.952707  1404.552682  \n",
       "3         9039.093803    0.321089        0.103098  1296.213826  1404.552682  \n",
       "4         8831.406151    0.184080        0.033886  1386.786799  1404.552682  "
      ]
     },
     "execution_count": 88,
     "metadata": {},
     "output_type": "execute_result"
    }
   ],
   "source": [
    "# calculate market share for each industry in each quater\n",
    "data2[\"total_industry_shr\"] = data2.groupby([\"sic\",\"datacqtr\"])[\"market_cap\"].transform(\"sum\")     #total industry shares for each quater\n",
    "data2[\"market_shr\"] = data2[\"market_cap\"]/data2[\"total_industry_shr\"]*100         #company market share in the given industry for each quarter\n",
    "data2[\"market_shr_sqr\"] = data2[\"market_shr\"]*data2[\"market_shr\"]\n",
    "data2[\"HHI\"] = data2.groupby([\"sic\",\"datacqtr\"])[\"market_shr_sqr\"].transform(\"sum\")    #HHI for each industry in each quarter\n",
    "data2.head()"
   ]
  },
  {
   "cell_type": "code",
   "execution_count": 89,
   "metadata": {},
   "outputs": [
    {
     "data": {
      "text/html": [
       "<div>\n",
       "<style scoped>\n",
       "    .dataframe tbody tr th:only-of-type {\n",
       "        vertical-align: middle;\n",
       "    }\n",
       "\n",
       "    .dataframe tbody tr th {\n",
       "        vertical-align: top;\n",
       "    }\n",
       "\n",
       "    .dataframe thead th {\n",
       "        text-align: right;\n",
       "    }\n",
       "</style>\n",
       "<table border=\"1\" class=\"dataframe\">\n",
       "  <thead>\n",
       "    <tr style=\"text-align: right;\">\n",
       "      <th></th>\n",
       "      <th>sic</th>\n",
       "      <th>HHI_average</th>\n",
       "    </tr>\n",
       "  </thead>\n",
       "  <tbody>\n",
       "    <tr>\n",
       "      <td>0</td>\n",
       "      <td>30</td>\n",
       "      <td>1686.412117</td>\n",
       "    </tr>\n",
       "    <tr>\n",
       "      <td>1</td>\n",
       "      <td>58</td>\n",
       "      <td>2303.659827</td>\n",
       "    </tr>\n",
       "    <tr>\n",
       "      <td>2</td>\n",
       "      <td>57</td>\n",
       "      <td>2716.848618</td>\n",
       "    </tr>\n",
       "    <tr>\n",
       "      <td>3</td>\n",
       "      <td>50</td>\n",
       "      <td>630.038308</td>\n",
       "    </tr>\n",
       "    <tr>\n",
       "      <td>4</td>\n",
       "      <td>37</td>\n",
       "      <td>973.109153</td>\n",
       "    </tr>\n",
       "  </tbody>\n",
       "</table>\n",
       "</div>"
      ],
      "text/plain": [
       "  sic  HHI_average\n",
       "0  30  1686.412117\n",
       "1  58  2303.659827\n",
       "2  57  2716.848618\n",
       "3  50   630.038308\n",
       "4  37   973.109153"
      ]
     },
     "execution_count": 89,
     "metadata": {},
     "output_type": "execute_result"
    }
   ],
   "source": [
    "# calculate HHI average for each industry\n",
    "data2[\"HHI_average\"] = data2.groupby(\"sic\")[\"HHI\"].transform(\"mean\")   \n",
    "hhi_avg = data2.loc[:,[\"sic\",\"HHI_average\"]].drop_duplicates([\"sic\"]).reset_index(drop = True)\n",
    "hhi_avg.head()"
   ]
  },
  {
   "cell_type": "code",
   "execution_count": 90,
   "metadata": {},
   "outputs": [
    {
     "data": {
      "text/html": [
       "<div>\n",
       "<style scoped>\n",
       "    .dataframe tbody tr th:only-of-type {\n",
       "        vertical-align: middle;\n",
       "    }\n",
       "\n",
       "    .dataframe tbody tr th {\n",
       "        vertical-align: top;\n",
       "    }\n",
       "\n",
       "    .dataframe thead th {\n",
       "        text-align: right;\n",
       "    }\n",
       "</style>\n",
       "<table border=\"1\" class=\"dataframe\">\n",
       "  <thead>\n",
       "    <tr style=\"text-align: right;\">\n",
       "      <th></th>\n",
       "      <th>sic</th>\n",
       "      <th>HHI_average</th>\n",
       "    </tr>\n",
       "  </thead>\n",
       "  <tbody>\n",
       "    <tr>\n",
       "      <td>68</td>\n",
       "      <td>81</td>\n",
       "      <td>9134.847753</td>\n",
       "    </tr>\n",
       "    <tr>\n",
       "      <td>63</td>\n",
       "      <td>90</td>\n",
       "      <td>8811.546856</td>\n",
       "    </tr>\n",
       "    <tr>\n",
       "      <td>64</td>\n",
       "      <td>84</td>\n",
       "      <td>8736.967212</td>\n",
       "    </tr>\n",
       "    <tr>\n",
       "      <td>62</td>\n",
       "      <td>41</td>\n",
       "      <td>6736.393268</td>\n",
       "    </tr>\n",
       "    <tr>\n",
       "      <td>57</td>\n",
       "      <td>21</td>\n",
       "      <td>5750.351743</td>\n",
       "    </tr>\n",
       "  </tbody>\n",
       "</table>\n",
       "</div>"
      ],
      "text/plain": [
       "   sic  HHI_average\n",
       "68  81  9134.847753\n",
       "63  90  8811.546856\n",
       "64  84  8736.967212\n",
       "62  41  6736.393268\n",
       "57  21  5750.351743"
      ]
     },
     "execution_count": 90,
     "metadata": {},
     "output_type": "execute_result"
    }
   ],
   "source": [
    "# select the top4\n",
    "hhi_avg.sort_values(\"HHI_average\", ascending = False).head()"
   ]
  },
  {
   "cell_type": "code",
   "execution_count": 134,
   "metadata": {},
   "outputs": [],
   "source": [
    "# select the data for top4 sic, sort the hhi value by datacqtr\n",
    "data_81 = data2[data2[\"sic\"] == \"81\"].loc[:, [\"sic\", \"datacqtr\", \"HHI\"]].drop_duplicates().reset_index(drop = True).sort_values(\"datacqtr\")# sort_values by ascending time\n",
    "data_81[\"datacqtr\"] = pd.to_datetime(data_81[\"datacqtr\"].str[:4]+ data_81[\"datacqtr\"].str[4:])\n",
    "data_90 = data2[data2[\"sic\"] == \"90\"].loc[:, [\"sic\", \"datacqtr\", \"HHI\"]].drop_duplicates().reset_index(drop = True).sort_values(\"datacqtr\")# sort_values by ascending time\n",
    "data_90[\"datacqtr\"] = pd.to_datetime(data_90[\"datacqtr\"].str[:4]+ data_90[\"datacqtr\"].str[4:])\n",
    "data_84 = data2[data2[\"sic\"] == \"84\"].loc[:, [\"sic\", \"datacqtr\", \"HHI\"]].drop_duplicates().reset_index(drop = True).sort_values(\"datacqtr\")# sort_values by ascending time\n",
    "data_84[\"datacqtr\"] = pd.to_datetime(data_84[\"datacqtr\"].str[:4]+ data_84[\"datacqtr\"].str[4:])\n",
    "data_41 = data2[data2[\"sic\"] == \"41\"].loc[:, [\"sic\", \"datacqtr\", \"HHI\"]].drop_duplicates().reset_index(drop = True).sort_values(\"datacqtr\")# sort_values by ascending time\n",
    "data_41[\"datacqtr\"] = pd.to_datetime(data_41[\"datacqtr\"].str[:4]+ data_41[\"datacqtr\"].str[4:])"
   ]
  },
  {
   "cell_type": "code",
   "execution_count": 139,
   "metadata": {},
   "outputs": [
    {
     "data": {
      "text/plain": [
       "Text(0.5, 1.0, 'sic = 41')"
      ]
     },
     "execution_count": 139,
     "metadata": {},
     "output_type": "execute_result"
    },
    {
     "data": {
      "image/png": "[encoded data removed]",
      "text/plain": [
       "<Figure size 720x720 with 4 Axes>"
      ]
     },
     "metadata": {
      "needs_background": "light"
     },
     "output_type": "display_data"
    }
   ],
   "source": [
    "fig, axes = plt.subplots(2, 2, figsize=(10,10))\n",
    "axes[0,0].plot(data_81[\"datacqtr\"], data_81[\"HHI\"])\n",
    "axes[0,0].set_title(\"sic = 81\")\n",
    "axes[0,1].plot(data_90[\"datacqtr\"], data_90[\"HHI\"])\n",
    "axes[0,1].set_title(\"sic = 90\")\n",
    "axes[1,0].plot(data_84[\"datacqtr\"], data_84[\"HHI\"])\n",
    "axes[1,0].set_title(\"sic = 84\")\n",
    "axes[1,1].plot(data_41[\"datacqtr\"], data_41[\"HHI\"])\n",
    "axes[1,1].set_title(\"sic = 41\")"
   ]
  }
 ],
 "metadata": {
  "kernelspec": {
   "display_name": "Python 3",
   "language": "python",
   "name": "python3"
  },
  "language_info": {
   "codemirror_mode": {
    "name": "ipython",
    "version": 3
   },
   "file_extension": ".py",
   "mimetype": "text/x-python",
   "name": "python",
   "nbconvert_exporter": "python",
   "pygments_lexer": "ipython3",
   "version": "3.7.4"
  },
  "toc": {
   "base_numbering": 1,
   "nav_menu": {},
   "number_sections": true,
   "sideBar": true,
   "skip_h1_title": false,
   "title_cell": "Table of Contents",
   "title_sidebar": "Contents",
   "toc_cell": false,
   "toc_position": {},
   "toc_section_display": true,
   "toc_window_display": false
  }
 },
 "nbformat": 4,
 "nbformat_minor": 4
}
