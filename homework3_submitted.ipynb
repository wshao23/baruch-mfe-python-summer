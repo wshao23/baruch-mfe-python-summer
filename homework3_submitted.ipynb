{
 "cells": [
  {
   "cell_type": "markdown",
   "metadata": {},
   "source": [
    "# Homework 3\n",
    "By Wanyan (Wendy) Shao"
   ]
  },
  {
   "cell_type": "markdown",
   "metadata": {},
   "source": [
    "1. Read the code below and rewrite it using only numpy functions (without for loop,\n",
    "if-else statements). Benchmark your implementation. How much is it faster than\n",
    "the naive python implementation? (hint: use np.isin)\n",
    "\n",
    "```\n",
    "def func1(names, db):\n",
    "    idx = []\n",
    "    for i in names:\n",
    "        if i in db:\n",
    "            idx.append(db.index(i))\n",
    "    return idx\n",
    "```"
   ]
  },
  {
   "cell_type": "code",
   "execution_count": 3,
   "metadata": {},
   "outputs": [],
   "source": [
    "import numpy as np\n",
    "\n",
    "def func2(names, db):\n",
    "    return np.where(np.isin(db, names)) # return the index where the element in db is also in the names\n"
   ]
  },
  {
   "cell_type": "code",
   "execution_count": 4,
   "metadata": {},
   "outputs": [],
   "source": [
    "def func1(names, db):\n",
    "    idx = []\n",
    "    for i in names:\n",
    "        if i in db:\n",
    "            idx.append(db.index(i))\n",
    "    return idx\n"
   ]
  },
  {
   "cell_type": "code",
   "execution_count": 5,
   "metadata": {},
   "outputs": [],
   "source": [
    "a = list(range(0,100000,2))\n",
    "b = list(range(1,100001,3))"
   ]
  },
  {
   "cell_type": "code",
   "execution_count": 171,
   "metadata": {},
   "outputs": [
    {
     "name": "stdout",
     "output_type": "stream",
     "text": [
      "Wall time: 19.4 s\n"
     ]
    }
   ],
   "source": [
    "%time result1 = func1(a,b)"
   ]
  },
  {
   "cell_type": "code",
   "execution_count": 197,
   "metadata": {},
   "outputs": [
    {
     "name": "stdout",
     "output_type": "stream",
     "text": [
      "Wall time: 14 ms\n"
     ]
    }
   ],
   "source": [
    "%time result2 = func2(a,b)\n",
    "# In this case, np.isin method is 1400 times faster than the benchmark, \n",
    "#but it depends on the data type of a and b. If the data type of a and b\n",
    "# are both 'range', the benchmark will be a little faster than the np.isin method."
   ]
  },
  {
   "cell_type": "markdown",
   "metadata": {},
   "source": [
    "2. Use only numpy functions (without for loop, if-else statements) to find the\n",
    "largest 3 distances between points if either points is inside the circle of\n",
    "raidus r0. Then return these points. E.g.\n",
    "\n",
    "```\n",
    ">>> coordinates = np.array(\n",
    "[[0.968, 0.313],\n",
    " [0.692, 0.876],\n",
    " [0.895, 0.085],\n",
    " [0.039, 0.17 ],\n",
    " [0.878, 0.098]]\n",
    ")\n",
    ">>> cirle_r0 = 0.9\n",
    ">>> print(search_pairs(coordinates, cirle_r0))\n",
    "\n",
    "# The indices of the relevant points in the original coordinates\n",
    "[[2 1]\n",
    " [3 0]\n",
    " [3 1]]\n",
    "```"
   ]
  },
  {
   "cell_type": "code",
   "execution_count": 66,
   "metadata": {},
   "outputs": [],
   "source": [
    "def search_pairs(coordinates, circle_r0):\n",
    "    # constructs distance matrix\n",
    "    pair_dists = np.linalg.norm(coordinates[:, np.newaxis, :] - coordinates, axis=2)\n",
    "    # return a copy of an array with elements above the k-th diagonal zeroed.\n",
    "    pair_dists = np.tril(pair_dists, k = -1)\n",
    "    # indentify coordinants that is within r0\n",
    "    points_in_r0 = np.linalg.norm(coordinates, axis=1) < circle_r0\n",
    "    # get the distance indicator with the either start or end point within the circle\n",
    "    mask_r0 = points_in_r0[:, np.newaxis] ^ points_in_r0\n",
    "    # get the unique distance list from the lower triangonal matrix pair_dists\n",
    "    uniq_dists = pair_dists[mask_r0]\n",
    "    # get the top 3 distance location in the pair_dists\n",
    "    location = np.partition(uniq_dists, -3)[-3:]\n",
    "    # return the top 3 distance location in pair_dists with in required format\n",
    "    return np.transpose(np.where(np.isin(pair_dists,location)))\n",
    "    "
   ]
  },
  {
   "cell_type": "code",
   "execution_count": 67,
   "metadata": {},
   "outputs": [
    {
     "name": "stdout",
     "output_type": "stream",
     "text": [
      "[[2 1]\n",
      " [3 0]\n",
      " [3 1]]\n"
     ]
    }
   ],
   "source": [
    "coordinates = np.array(\n",
    "[[0.968, 0.313],\n",
    " [0.692, 0.876],\n",
    " [0.895, 0.085],\n",
    " [0.039, 0.17 ],\n",
    " [0.878, 0.098]])\n",
    "circle_r0 = 0.9\n",
    "print(search_pairs(coordinates, cirle_r0))\n"
   ]
  }
 ],
 "metadata": {
  "kernelspec": {
   "display_name": "Python 3",
   "language": "python",
   "name": "python3"
  },
  "language_info": {
   "codemirror_mode": {
    "name": "ipython",
    "version": 3
   },
   "file_extension": ".py",
   "mimetype": "text/x-python",
   "name": "python",
   "nbconvert_exporter": "python",
   "pygments_lexer": "ipython3",
   "version": "3.7.4"
  }
 },
 "nbformat": 4,
 "nbformat_minor": 2
}
